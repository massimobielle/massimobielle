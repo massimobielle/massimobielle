{
  "nbformat": 4,
  "nbformat_minor": 0,
  "metadata": {
    "colab": {
      "provenance": [],
      "collapsed_sections": [],
      "include_colab_link": true
    },
    "kernelspec": {
      "name": "python3",
      "display_name": "Python 3"
    },
    "language_info": {
      "name": "python"
    }
  },
  "cells": [
    {
      "cell_type": "markdown",
      "metadata": {
        "id": "view-in-github",
        "colab_type": "text"
      },
      "source": [
        "<a href=\"https://colab.research.google.com/github/massimobielle/massimobielle/blob/main/lesson1_python.ipynb\" target=\"_parent\"><img src=\"https://colab.research.google.com/assets/colab-badge.svg\" alt=\"Open In Colab\"/></a>"
      ]
    },
    {
      "cell_type": "markdown",
      "source": [
        "##Artificial Intelligence and Deep Learning course CIM4.0\n"
      ],
      "metadata": {
        "id": "3k7axIA4QDKF"
      }
    },
    {
      "cell_type": "markdown",
      "source": [
        "# Python Strings"
      ],
      "metadata": {
        "id": "8IIT51XPVwt1"
      }
    },
    {
      "cell_type": "code",
      "source": [
        "# It is possible to include an apostrophe or quotation marks within the string\n",
        "msg = \"I like 'programming'\"\n",
        "_msg = 'I like \"programming\"'\n",
        "print(msg)\n",
        "print(_msg)"
      ],
      "metadata": {
        "id": "6iTJRK25V0Ys"
      },
      "execution_count": null,
      "outputs": []
    },
    {
      "cell_type": "markdown",
      "source": [
        "## Built-in functions\n"
      ],
      "metadata": {
        "id": "X8pjOU-9h80o"
      }
    },
    {
      "cell_type": "code",
      "source": [
        "# string methods\n",
        "string = \"python\"\n",
        "print(string)\n",
        "string = string.capitalize()\n",
        "print(string)\n",
        "# Why so ?"
      ],
      "metadata": {
        "id": "cKIfUWNEiAQb",
        "colab": {
          "base_uri": "https://localhost:8080/"
        },
        "outputId": "9d441f9c-ff73-42fb-ef68-373277ad179c"
      },
      "execution_count": null,
      "outputs": [
        {
          "output_type": "stream",
          "name": "stdout",
          "text": [
            "python\n",
            "Python\n"
          ]
        }
      ]
    },
    {
      "cell_type": "code",
      "source": [
        "string = \"    ACADEMY CIM4.0 PYTHON COURSE, TORINO, MILANO   \"\n",
        "\n",
        "# upper, lower, split, find, replace(x,y), strip\n",
        "print(string.split(\".\"))"
      ],
      "metadata": {
        "id": "1Aiwbtaen5Mm",
        "colab": {
          "base_uri": "https://localhost:8080/"
        },
        "outputId": "994ebb7a-de44-481e-9c85-642a4c38067a"
      },
      "execution_count": null,
      "outputs": [
        {
          "output_type": "stream",
          "name": "stdout",
          "text": [
            "['    ACADEMY CIM4', '0 PYTHON COURSE, TORINO, MILANO   ']\n"
          ]
        }
      ]
    },
    {
      "cell_type": "markdown",
      "source": [
        "## Concatenation"
      ],
      "metadata": {
        "id": "nwAKrg6sWgAk"
      }
    },
    {
      "cell_type": "code",
      "source": [
        "# string concatenation\n",
        "firstName = \"Mario\"\n",
        "lastName = \"Rossi\"\n",
        "name = firstName + \" \" + lastName\n",
        "print(\"My name is \", name)"
      ],
      "metadata": {
        "id": "eMrjjgKcWBWM",
        "colab": {
          "base_uri": "https://localhost:8080/"
        },
        "outputId": "83d6ccc6-1398-452c-f2d8-7e46fcba5189"
      },
      "execution_count": null,
      "outputs": [
        {
          "output_type": "stream",
          "name": "stdout",
          "text": [
            "My name is  Mario Rossi\n"
          ]
        }
      ]
    },
    {
      "cell_type": "markdown",
      "source": [
        "## Question: how to add space?\n",
        "\n"
      ],
      "metadata": {
        "id": "2-jAEWJ0W07r"
      }
    },
    {
      "cell_type": "code",
      "source": [
        "firstName = \"Mario\"\n",
        "lastName = \"Rossi\"\n",
        "firstName + \" \" + lastName"
      ],
      "metadata": {
        "id": "4KV4l9WtW4Py"
      },
      "execution_count": null,
      "outputs": []
    },
    {
      "cell_type": "markdown",
      "source": [
        "## String length"
      ],
      "metadata": {
        "id": "XBGm6cRlW5s7"
      }
    },
    {
      "cell_type": "code",
      "source": [
        "# len function\n",
        "string = \"Hello class!\"\n",
        "\n",
        "# Questo funziona ??\n",
        "print(string , len(string))"
      ],
      "metadata": {
        "id": "sJBTEFtnXBAj",
        "colab": {
          "base_uri": "https://localhost:8080/"
        },
        "outputId": "b269ab8d-15fc-44a9-8b4b-6bea15992e95"
      },
      "execution_count": null,
      "outputs": [
        {
          "output_type": "stream",
          "name": "stdout",
          "text": [
            "Hello class! 12\n"
          ]
        }
      ]
    },
    {
      "cell_type": "markdown",
      "source": [
        "## String repetition"
      ],
      "metadata": {
        "id": "VDjdguIlarX5"
      }
    },
    {
      "cell_type": "code",
      "source": [
        "# * operator \n",
        "string = \"G\"*44\n",
        "print(string)"
      ],
      "metadata": {
        "id": "3biyMvkrXMNT",
        "colab": {
          "base_uri": "https://localhost:8080/"
        },
        "outputId": "770b4461-6dff-4389-8dba-5f99d5fab7d8"
      },
      "execution_count": null,
      "outputs": [
        {
          "output_type": "stream",
          "name": "stdout",
          "text": [
            "GGGGGGGGGGGGGGGGGGGGGGGGGGGGGGGGGGGGGGGGGGGG\n"
          ]
        }
      ]
    },
    {
      "cell_type": "markdown",
      "source": [
        "## Extract a character from a string"
      ],
      "metadata": {
        "id": "3P8rXV82bi74"
      }
    },
    {
      "cell_type": "code",
      "source": [
        "# [] operator\n",
        "string = \"DEEP LEARNING\"\n",
        "print(\"Dimensione:\", len(string))\n",
        "print(string[32])\n",
        "print(string[-7])\n",
        "\n",
        "# Which indexes force the index of of range error?\n",
        "print()"
      ],
      "metadata": {
        "id": "9MtODFXRa0OH"
      },
      "execution_count": null,
      "outputs": []
    },
    {
      "cell_type": "markdown",
      "source": [
        "## Immutability"
      ],
      "metadata": {
        "id": "5QdGPhPIhTF8"
      }
    },
    {
      "cell_type": "code",
      "source": [
        "# try to make some changes to the string\n",
        "string = \"Academy\"\n",
        "print(string)\n",
        "\n",
        "# How to assign a different character at index 3?\n",
        "string[3] = 44\n",
        "print(string)"
      ],
      "metadata": {
        "id": "fhsnp-OzbyCA"
      },
      "execution_count": null,
      "outputs": []
    }
  ]
}