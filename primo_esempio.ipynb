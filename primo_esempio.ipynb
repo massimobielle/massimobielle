{
  "nbformat": 4,
  "nbformat_minor": 0,
  "metadata": {
    "colab": {
      "provenance": [],
      "collapsed_sections": [],
      "authorship_tag": "ABX9TyPJNs0qrCnx0/WVt53B6PfK",
      "include_colab_link": true
    },
    "kernelspec": {
      "name": "python3",
      "display_name": "Python 3"
    },
    "language_info": {
      "name": "python"
    }
  },
  "cells": [
    {
      "cell_type": "markdown",
      "metadata": {
        "id": "view-in-github",
        "colab_type": "text"
      },
      "source": [
        "<a href=\"https://colab.research.google.com/github/massimobielle/massimobielle/blob/main/primo_esempio.ipynb\" target=\"_parent\"><img src=\"https://colab.research.google.com/assets/colab-badge.svg\" alt=\"Open In Colab\"/></a>"
      ]
    },
    {
      "cell_type": "code",
      "execution_count": null,
      "metadata": {
        "colab": {
          "base_uri": "https://localhost:8080/"
        },
        "id": "RrgZCyPTJw-o",
        "outputId": "c320f1e7-9d26-41ea-a390-72e542fc078a"
      },
      "outputs": [
        {
          "output_type": "stream",
          "name": "stdout",
          "text": [
            "HELLO WORLD\n"
          ]
        }
      ],
      "source": [
        "print(\"HELLO WORLD\")"
      ]
    },
    {
      "cell_type": "code",
      "source": [
        "print(\"DARIO MONTELLA\")\n"
      ],
      "metadata": {
        "colab": {
          "base_uri": "https://localhost:8080/"
        },
        "id": "thukfeeuBgya",
        "outputId": "72f96100-1a6e-47b8-8b15-56756eb3e7b9"
      },
      "execution_count": 1,
      "outputs": [
        {
          "output_type": "stream",
          "name": "stdout",
          "text": [
            "DARIO MONTELLA\n"
          ]
        }
      ]
    },
    {
      "cell_type": "markdown",
      "source": [],
      "metadata": {
        "id": "472SmdvAJ4dr"
      }
    },
    {
      "cell_type": "markdown",
      "source": [
        "MY FIRST PROGRAM"
      ],
      "metadata": {
        "id": "44hIHq6yNxvE"
      }
    },
    {
      "cell_type": "code",
      "source": [
        "## My first program\n",
        "# Output\n",
        "nome='giorgio'\n",
        "print(\"Hello world \"+nome)\n",
        "cognome=\"macrino\"\n",
        "print( nome, cognome )\n",
        "cognome=1\n",
        "type(cognome)\n",
        "isinstance(cognome,int)\n",
        "\n",
        "\n",
        "\n",
        "id(cognome)\n",
        "\n",
        "a=123.2\n",
        "b=123.2\n",
        "if a is b:\n",
        "  print('si', id(a),id(b))\n",
        "else:\n",
        "  print('no', id(a),id(b))\n",
        "\n"
      ],
      "metadata": {
        "colab": {
          "base_uri": "https://localhost:8080/"
        },
        "id": "flR_B1q2J9el",
        "outputId": "7330defb-23dd-4c90-ddfe-3454a076ff2d"
      },
      "execution_count": null,
      "outputs": [
        {
          "output_type": "stream",
          "name": "stdout",
          "text": [
            "Hello world giorgio\n",
            "giorgio macrino\n",
            "no 140279387763888 140279387763024\n"
          ]
        }
      ]
    },
    {
      "cell_type": "code",
      "source": [
        "import os\n",
        "print( os.getcwd(), os.listdir())"
      ],
      "metadata": {
        "colab": {
          "base_uri": "https://localhost:8080/"
        },
        "id": "s_ygnZwMalf_",
        "outputId": "4daffe86-fe7a-407e-91f2-2648156e53c5"
      },
      "execution_count": null,
      "outputs": [
        {
          "output_type": "stream",
          "name": "stdout",
          "text": [
            "/content ['.config', 'sample_data']\n"
          ]
        }
      ]
    },
    {
      "cell_type": "code",
      "source": [
        "from os import listdir\n",
        "print( listdir())\n",
        "\n",
        "base=4\n",
        "print(id(base))\n",
        "base=7\n",
        "print(id(base))"
      ],
      "metadata": {
        "colab": {
          "base_uri": "https://localhost:8080/"
        },
        "id": "Mh0wsbtWbKMa",
        "outputId": "883a9e19-6c7a-43c4-add6-8ce914917c0e"
      },
      "execution_count": null,
      "outputs": [
        {
          "output_type": "stream",
          "name": "stdout",
          "text": [
            "['.config', 'sample_data']\n",
            "11122688\n",
            "11122784\n"
          ]
        }
      ]
    },
    {
      "cell_type": "code",
      "source": [
        "a=5\n",
        "s=\"pippo\"\n",
        "print( str(a)+ s ) "
      ],
      "metadata": {
        "colab": {
          "base_uri": "https://localhost:8080/"
        },
        "id": "3XPZzPZDNv9r",
        "outputId": "2df50d74-ff59-4941-9fb9-3588347c7fcc"
      },
      "execution_count": null,
      "outputs": [
        {
          "output_type": "stream",
          "name": "stdout",
          "text": [
            "5pippo\n"
          ]
        }
      ]
    },
    {
      "cell_type": "code",
      "source": [
        "#solve ax+b=0\n",
        "a=float(input())\n",
        "b=float(input())\n",
        "x=-b/a\n",
        "print(x)"
      ],
      "metadata": {
        "colab": {
          "base_uri": "https://localhost:8080/"
        },
        "id": "ellul9t_h7dz",
        "outputId": "9bbf1e26-5fd1-4c6a-c5cf-b116d2a57a68"
      },
      "execution_count": null,
      "outputs": [
        {
          "output_type": "stream",
          "name": "stdout",
          "text": [
            "3\n",
            "4\n",
            "-1.3333333333333333\n"
          ]
        }
      ]
    },
    {
      "cell_type": "code",
      "source": [
        "# Solve \n",
        "# ax^2+bx+c=0\n",
        "import math\n",
        "a=float(input('a: '))\n",
        "b=float(input('b: '))\n",
        "c=float(input('c: '))\n",
        "delta=b**2-4*a*c\n",
        "if delta < 0 :\n",
        "  print(\"Non esistono soluzioni reali\")\n",
        "elif delta == 0:\n",
        "  x1=-b-math.sqrt(delta)/2\n",
        "  print(\"Unica soluzione: \", x1)\n",
        "else:\n",
        "  x1=-b-math.sqrt(delta)/2\n",
        "  x2=-b+math.sqrt(delta)/2\n",
        "  print(\"Le due soluzioni sono: \", x1, x2)"
      ],
      "metadata": {
        "colab": {
          "base_uri": "https://localhost:8080/"
        },
        "id": "Ft7pru5xlPTa",
        "outputId": "5364d167-c668-4613-a240-de70cb93f8b2"
      },
      "execution_count": null,
      "outputs": [
        {
          "output_type": "stream",
          "name": "stdout",
          "text": [
            "a: 2\n",
            "b: 5\n",
            "c: 1\n",
            "Le due soluzioni sono:  -7.061552812808831 -2.9384471871911697\n"
          ]
        }
      ]
    },
    {
      "cell_type": "markdown",
      "source": [],
      "metadata": {
        "id": "5iXeE8_KJ9zz"
      }
    }
  ]
}